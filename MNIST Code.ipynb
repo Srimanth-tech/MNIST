{
 "cells": [
  {
   "cell_type": "code",
   "execution_count": 1,
   "id": "c096834f",
   "metadata": {},
   "outputs": [],
   "source": [
    "# IMPORTS\n",
    "import tensorflow as tf\n",
    "from tensorflow.keras import layers, models\n",
    "from tensorflow.keras.datasets import mnist\n",
    "from tensorflow.keras.utils import to_categorical\n",
    "from sklearn.model_selection import KFold\n",
    "import numpy as np"
   ]
  },
  {
   "cell_type": "code",
   "execution_count": 2,
   "id": "5011f363",
   "metadata": {},
   "outputs": [],
   "source": [
    "# LOADING DATASET\n",
    "(train_image,train_label),(test_image, test_label) = mnist.load_data()"
   ]
  },
  {
   "cell_type": "code",
   "execution_count": 3,
   "id": "7cdd6933",
   "metadata": {},
   "outputs": [],
   "source": [
    "# SHUFFLING\n",
    "indices = np.arange(train_image.shape[0])\n",
    "np.random.shuffle(indices)\n",
    "train_image = train_image[indices]\n",
    "train_label = train_label[indices]"
   ]
  },
  {
   "cell_type": "code",
   "execution_count": 4,
   "id": "741e8189",
   "metadata": {},
   "outputs": [],
   "source": [
    "# RESHAPE AND NORMALIZATION\n",
    "train_image = train_image.reshape((60000,28,28,1)).astype('float32')/255\n",
    "test_image = test_image.reshape((10000, 28, 28, 1)).astype('float32') / 255"
   ]
  },
  {
   "cell_type": "code",
   "execution_count": 5,
   "id": "0c8faabf",
   "metadata": {},
   "outputs": [],
   "source": [
    "# ENCODING\n",
    "train_label = to_categorical(train_label)\n",
    "test_label = to_categorical(test_label)"
   ]
  },
  {
   "cell_type": "code",
   "execution_count": 6,
   "id": "c77977e0",
   "metadata": {},
   "outputs": [],
   "source": [
    "# MODEL BUILDING\n",
    "model = models.Sequential()\n",
    "model.add(layers.Conv2D(32, (3, 3), activation='relu', input_shape=(28, 28, 1)))\n",
    "model.add(layers.MaxPooling2D((2, 2)))\n",
    "model.add(layers.Conv2D(64, (3, 3), activation='relu'))\n",
    "model.add(layers.MaxPooling2D((2, 2)))\n",
    "model.add(layers.Conv2D(64, (3, 3), activation='relu'))\n",
    "model.add(layers.Flatten())\n",
    "model.add(layers.Dropout(0.8))\n",
    "model.add(layers.Dense(64, activation='relu'))\n",
    "model.add(layers.Dense(10, activation='softmax'))"
   ]
  },
  {
   "cell_type": "code",
   "execution_count": 7,
   "id": "ec947910",
   "metadata": {},
   "outputs": [],
   "source": [
    "# COMPILATION\n",
    "model.compile(optimizer='adam',loss='categorical_crossentropy',metrics=['accuracy'])"
   ]
  },
  {
   "cell_type": "code",
   "execution_count": 8,
   "id": "28a7624a",
   "metadata": {},
   "outputs": [
    {
     "name": "stdout",
     "output_type": "stream",
     "text": [
      "Epoch 1/5\n",
      "750/750 [==============================] - 18s 23ms/step - loss: 0.4853 - accuracy: 0.8395 - val_loss: 0.0950 - val_accuracy: 0.9712\n",
      "Epoch 2/5\n",
      "750/750 [==============================] - 17s 23ms/step - loss: 0.1647 - accuracy: 0.9491 - val_loss: 0.0700 - val_accuracy: 0.9786\n",
      "Epoch 3/5\n",
      "750/750 [==============================] - 17s 22ms/step - loss: 0.1209 - accuracy: 0.9628 - val_loss: 0.0540 - val_accuracy: 0.9834\n",
      "Epoch 4/5\n",
      "750/750 [==============================] - 17s 22ms/step - loss: 0.0983 - accuracy: 0.9693 - val_loss: 0.0462 - val_accuracy: 0.9868\n",
      "Epoch 5/5\n",
      "750/750 [==============================] - 20s 26ms/step - loss: 0.0881 - accuracy: 0.9740 - val_loss: 0.0417 - val_accuracy: 0.9877\n"
     ]
    },
    {
     "data": {
      "text/plain": [
       "<keras.callbacks.History at 0x21f813a7dc0>"
      ]
     },
     "execution_count": 8,
     "metadata": {},
     "output_type": "execute_result"
    }
   ],
   "source": [
    "# TRAINING\n",
    "model.fit(train_image, train_label, epochs=5, batch_size=64, validation_split=0.2)"
   ]
  },
  {
   "cell_type": "code",
   "execution_count": 9,
   "id": "a136ed34",
   "metadata": {},
   "outputs": [
    {
     "name": "stdout",
     "output_type": "stream",
     "text": [
      "313/313 [==============================] - 1s 4ms/step - loss: 0.0294 - accuracy: 0.9894\n",
      "Test accuracy: 0.9894000291824341\n"
     ]
    }
   ],
   "source": [
    "# EVALUATION\n",
    "test_loss, test_acc = model.evaluate(test_image, test_label)\n",
    "print(f'Test accuracy: {test_acc}')"
   ]
  },
  {
   "cell_type": "code",
   "execution_count": 10,
   "id": "f8ec3fb2",
   "metadata": {},
   "outputs": [
    {
     "name": "stdout",
     "output_type": "stream",
     "text": [
      "313/313 [==============================] - 2s 5ms/step\n",
      "Sample 1: Predicted: 7, True: 7\n",
      "Sample 2: Predicted: 2, True: 2\n",
      "Sample 3: Predicted: 1, True: 1\n",
      "Sample 4: Predicted: 0, True: 0\n",
      "Sample 5: Predicted: 4, True: 4\n",
      "Sample 6: Predicted: 1, True: 1\n",
      "Sample 7: Predicted: 4, True: 4\n",
      "Sample 8: Predicted: 9, True: 9\n",
      "Sample 9: Predicted: 5, True: 5\n",
      "Sample 10: Predicted: 9, True: 9\n"
     ]
    }
   ],
   "source": [
    "# PREDICTIONS\n",
    "predictions = model.predict(test_image)\n",
    "\n",
    "# DISPLAYING\n",
    "for i in range(10):  \n",
    "    predicted_label = np.argmax(predictions[i])\n",
    "    true_label = np.argmax(test_label[i])\n",
    "    print(f\"Sample {i + 1}: Predicted: {predicted_label}, True: {true_label}\")"
   ]
  },
  {
   "cell_type": "code",
   "execution_count": null,
   "id": "6bc06d63",
   "metadata": {},
   "outputs": [],
   "source": []
  }
 ],
 "metadata": {
  "kernelspec": {
   "display_name": "Python 3 (ipykernel)",
   "language": "python",
   "name": "python3"
  },
  "language_info": {
   "codemirror_mode": {
    "name": "ipython",
    "version": 3
   },
   "file_extension": ".py",
   "mimetype": "text/x-python",
   "name": "python",
   "nbconvert_exporter": "python",
   "pygments_lexer": "ipython3",
   "version": "3.9.13"
  }
 },
 "nbformat": 4,
 "nbformat_minor": 5
}
